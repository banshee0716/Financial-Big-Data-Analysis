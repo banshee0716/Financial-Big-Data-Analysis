{
  "nbformat": 4,
  "nbformat_minor": 0,
  "metadata": {
    "colab": {
      "provenance": [],
      "authorship_tag": "ABX9TyP4osDLXXG1h0vk7aisW1p9",
      "include_colab_link": true
    },
    "kernelspec": {
      "name": "python3",
      "display_name": "Python 3"
    },
    "language_info": {
      "name": "python"
    }
  },
  "cells": [
    {
      "cell_type": "markdown",
      "metadata": {
        "id": "view-in-github",
        "colab_type": "text"
      },
      "source": [
        "<a href=\"https://colab.research.google.com/github/banshee0716/Financial-Big-Data-Analysis/blob/master/%E9%87%91%E8%9E%8D%E6%95%B8%E6%93%9A%E5%88%86%E6%9E%90W12.ipynb\" target=\"_parent\"><img src=\"https://colab.research.google.com/assets/colab-badge.svg\" alt=\"Open In Colab\"/></a>"
      ]
    },
    {
      "cell_type": "markdown",
      "source": [
        "## 官方範例"
      ],
      "metadata": {
        "id": "n1Kyp0NwR2c5"
      }
    },
    {
      "cell_type": "code",
      "source": [
        "import google.generativeai as genai\n",
        "from google.colab import userdata\n",
        "api_key = userdata.get('GOOGLE_API_KEY')\n",
        "genai.configure(api_key=api_key)\n",
        "\n",
        "model = genai.GenerativeModel(\"gemini-1.5-flash\")\n",
        "response = model.generate_content(\"Explain how AI works\")\n",
        "print(response.text)"
      ],
      "metadata": {
        "colab": {
          "base_uri": "https://localhost:8080/",
          "height": 436
        },
        "id": "m1EphDn1RA6B",
        "outputId": "fb974e7b-c144-4511-f62e-147bc839bfc5"
      },
      "execution_count": 30,
      "outputs": [
        {
          "output_type": "stream",
          "name": "stdout",
          "text": [
            "Artificial intelligence (AI) is a broad field encompassing various techniques that enable computers to mimic human intelligence.  There's no single \"how it works\" answer, as different AI approaches use different methods. However, we can break it down into key concepts:\n",
            "\n",
            "**1. Data is King:**  AI systems learn from data.  The more data, and the higher the quality of that data, the better the AI system typically performs. This data can be anything from images and text to sensor readings and financial transactions.\n",
            "\n",
            "**2. Algorithms are the Recipes:** Algorithms are sets of instructions that tell the computer how to process and learn from the data. These algorithms are the core of AI, and different algorithms are suited for different tasks.\n",
            "\n",
            "**3. Machine Learning (ML): A Major Approach:**  Machine learning is a subset of AI where the algorithm learns patterns from data without being explicitly programmed. Instead of relying on hard-coded rules, it identifies trends and relationships within the data to make predictions or decisions.  Key ML techniques include:\n",
            "\n",
            "* **Supervised Learning:** The algorithm is trained on a labeled dataset (data where the correct answer is provided).  For example, showing the algorithm many pictures of cats and dogs, labeled accordingly, so it can learn to distinguish them.\n",
            "* **Unsupervised Learning:** The algorithm is trained on an unlabeled dataset and tries to find patterns and structures on its own.  For example, grouping similar customers together based on their purchasing history.\n",
            "* **Reinforcement Learning:** The algorithm learns through trial and error by interacting with an environment and receiving rewards or penalties for its actions. This is often used in robotics and game playing.  Think of a robot learning to walk by trying different movements and being rewarded for successful steps.\n",
            "\n",
            "\n",
            "**4. Deep Learning (DL): A Powerful Subset of ML:** Deep learning uses artificial neural networks with multiple layers (hence \"deep\") to analyze data. These networks are inspired by the structure and function of the human brain.  Deep learning excels at tasks like image recognition, natural language processing, and speech recognition.\n",
            "\n",
            "**5. Neural Networks: The Building Blocks of DL:**  Neural networks consist of interconnected nodes (neurons) organized in layers.  Each connection has a weight that determines its influence on the output.  The network learns by adjusting these weights based on the data it processes.\n",
            "\n",
            "**6. Natural Language Processing (NLP): Understanding Language:** NLP focuses on enabling computers to understand, interpret, and generate human language.  This is crucial for tasks like chatbots, machine translation, and sentiment analysis.\n",
            "\n",
            "**7. Computer Vision: Seeing the World:** Computer vision allows computers to \"see\" and interpret images and videos.  This is used in self-driving cars, medical image analysis, and facial recognition.\n",
            "\n",
            "**In short:** AI systems use algorithms to learn from data, often through machine learning or deep learning techniques.  These algorithms find patterns and relationships in the data to make predictions, decisions, or perform tasks that typically require human intelligence.  The specific techniques used depend heavily on the problem being solved.  It's a constantly evolving field, with new methods and applications emerging regularly.\n",
            "\n"
          ]
        }
      ]
    },
    {
      "cell_type": "markdown",
      "source": [
        "## 金融分析程式碼"
      ],
      "metadata": {
        "id": "wxLXAo01TCgZ"
      }
    },
    {
      "cell_type": "code",
      "source": [
        "import yfinance as yf\n",
        "import pandas as pd\n",
        "\n",
        "# 定義股票代號\n",
        "ticker = \"2330.TW\"\n",
        "\n",
        "# 獲取股票資訊\n",
        "stock = yf.Ticker(ticker)\n",
        "hist = stock.history(period=\"6mo\")\n",
        "\n",
        "# 獲取最近一年的財報數據\n",
        "financials = stock.financials\n",
        "balance_sheet = stock.balance_sheet\n",
        "cashflow = stock.cashflow\n",
        "\n",
        "# 獲取股息收益率\n",
        "dividends = stock.dividends\n",
        "if not dividends.empty:\n",
        "    dividend_yield = dividends.iloc[-1] / stock.history(period=\"1d\")['Close'].iloc[-1] * 100\n",
        "else:\n",
        "    dividend_yield = 0.0\n",
        "\n",
        "# 獲取每股盈餘 (EPS)\n",
        "eps = stock.info.get('trailingEps', None)\n",
        "\n",
        "# 獲取市盈率 (P/E Ratio)\n",
        "pe_ratio = stock.info.get('trailingPE', None)\n",
        "\n",
        "# 計算技術指標\n",
        "# 簡單移動平均線 (SMA)\n",
        "hist['SMA_20'] = hist['Close'].rolling(window=20).mean()\n",
        "hist['SMA_50'] = hist['Close'].rolling(window=50).mean()\n",
        "\n",
        "# 相對強弱指數 (RSI)\n",
        "delta = hist['Close'].diff(1)\n",
        "gain = (delta.where(delta > 0, 0)).rolling(window=14).mean()\n",
        "loss = (-delta.where(delta < 0, 0)).rolling(window=14).mean()\n",
        "rs = gain / loss\n",
        "hist['RSI'] = 100 - (100 / (1 + rs))\n",
        "\n",
        "# 移動平均收斂發散指標 (MACD)\n",
        "hist['EMA_12'] = hist['Close'].ewm(span=12, adjust=False).mean()\n",
        "hist['EMA_26'] = hist['Close'].ewm(span=26, adjust=False).mean()\n",
        "hist['MACD'] = hist['EMA_12'] - hist['EMA_26']\n",
        "hist['Signal_Line'] = hist['MACD'].ewm(span=9, adjust=False).mean()\n",
        "\n",
        "# 構建財務數據字典\n",
        "financial_data = {\n",
        "    \"revenue\": financials.loc['Total Revenue'].iloc[-1] / 1e9 if 'Total Revenue' in financials.index else None,  # 轉換為億\n",
        "    \"net_income\": financials.loc['Net Income'].iloc[-1] / 1e9 if 'Net Income' in financials.index else None,  # 轉換為億\n",
        "    \"pe_ratio\": pe_ratio,\n",
        "    \"eps\": eps,\n",
        "    \"stock_price\": hist['Close'].iloc[-1],\n",
        "    \"dividend_yield\": dividend_yield,\n",
        "    \"SMA_20\": hist['SMA_20'].iloc[-1],\n",
        "    \"SMA_50\": hist['SMA_50'].iloc[-1],\n",
        "    \"RSI\": hist['RSI'].iloc[-1],\n",
        "    \"MACD\": hist['MACD'].iloc[-1],\n",
        "    \"Signal_Line\": hist['Signal_Line'].iloc[-1],\n",
        "}\n",
        "\n",
        "print(financial_data)\n"
      ],
      "metadata": {
        "colab": {
          "base_uri": "https://localhost:8080/"
        },
        "id": "G6Sfnd5TRC_q",
        "outputId": "ef2569ab-f4eb-4b23-c384-8e5af7cc2282"
      },
      "execution_count": 56,
      "outputs": [
        {
          "output_type": "stream",
          "name": "stdout",
          "text": [
            "{'revenue': nan, 'net_income': nan, 'pe_ratio': 24.592592, 'eps': 40.5, 'stock_price': 996.0, 'dividend_yield': 0.4016064257028112, 'SMA_20': 1036.3, 'SMA_50': 1025.74, 'RSI': 26.455026455026456, 'MACD': -7.626143602493812, 'Signal_Line': -1.097658088525212}\n"
          ]
        }
      ]
    },
    {
      "cell_type": "code",
      "source": [
        "def generate_stock_analysis(ticker, financial_data):\n",
        "    \"\"\"\n",
        "    使用 Gemini API 生成股票分析報告\n",
        "    :param ticker: 股票代碼\n",
        "    :param financial_data: 股票的關鍵財務數據（字典格式）\n",
        "    :return: 生成的分析報告\n",
        "    \"\"\"\n",
        "    # 定義 prompt 模板\n",
        "    prompt = f\"\"\"我需要一份股票分析報告，針對以下公司數據進行全面分析，並提供專業的投資建議。以下是 {ticker} 的關鍵數據：\n",
        "\n",
        "### 財務數據：\n",
        "- 收入: {financial_data.get('revenue', 'N/A')} 億美元\n",
        "- 淨利潤: {financial_data.get('net_income', 'N/A')} 億美元\n",
        "- 每股盈餘 (EPS): {financial_data.get('eps', 'N/A')}\n",
        "- 市盈率 (P/E Ratio): {financial_data.get('pe_ratio', 'N/A')}\n",
        "- 股價: {financial_data.get('stock_price', 'N/A')} 美元\n",
        "- 股息收益率: {financial_data.get('dividend_yield', 'N/A')}%\n",
        "\n",
        "### 技術指標：\n",
        "- 簡單移動平均線 (SMA-20): {financial_data.get('SMA_20', 'N/A')} 美元\n",
        "- 簡單移動平均線 (SMA-50): {financial_data.get('SMA_50', 'N/A')} 美元\n",
        "- 相對強弱指數 (RSI): {financial_data.get('RSI', 'N/A')}\n",
        "- 移動平均收斂發散指標 (MACD): {financial_data.get('MACD', 'N/A')}\n",
        "- 信號線 (Signal Line): {financial_data.get('Signal_Line', 'N/A')}\n",
        "\n",
        "### 任務要求：\n",
        "你是一位專業的投資經理人，請根據上述財務與技術數據撰寫一份專業的分析報告，報告需包含以下內容：\n",
        "1. **公司財務健康狀況的詳細評論**，包括收入、淨利潤、市盈率等關鍵指標的解讀。\n",
        "2. **技術指標的分析**，解釋移動平均線、RSI、MACD 等指標的趨勢和含義。\n",
        "3. **未來增長潛力的判斷**，基於財務數據和技術分析提供專業見解。\n",
        "4. **投資建議**，具體說明是否適合短期或長期投資，並解釋理由。\n",
        "5. 如果適用，對潛在風險進行評估，並提出應對策略。\n",
        "\n",
        "    \"\"\"\n",
        "\n",
        "    try:\n",
        "        model = genai.GenerativeModel(\"gemini-1.5-flash\")  # 使用 Gemini 模型\n",
        "        response = model.generate_content(prompt)\n",
        "        return response.text.strip()\n",
        "    except Exception as e:\n",
        "        return f\"生成失敗: {e}\"\n",
        "\n",
        "sample_data = financial_data\n",
        "\n",
        "analysis_report = generate_stock_analysis(ticker, sample_data)\n"
      ],
      "metadata": {
        "id": "K-9voCZ2WkIC"
      },
      "execution_count": 57,
      "outputs": []
    },
    {
      "cell_type": "code",
      "source": [
        "def display_markdown_output(ticker, analysis_report):\n",
        "    \"\"\"\n",
        "    直接在輸出中以 Markdown 語法顯示股票分析報告\n",
        "    \"\"\"\n",
        "    markdown_output = f\"\"\"\n",
        "# {ticker} 股票分析報告\n",
        "\n",
        "## 摘要\n",
        "以下是基於公司財務數據的專業分析報告。\n",
        "\n",
        "## 詳細報告\n",
        "{analysis_report}\n",
        "    \"\"\"\n",
        "    # 打印 Markdown 格式內容\n",
        "    print(markdown_output)\n",
        "\n",
        "# 測試輸出\n",
        "display_markdown_output(ticker, analysis_report)\n"
      ],
      "metadata": {
        "colab": {
          "base_uri": "https://localhost:8080/"
        },
        "id": "Gj5qJF8MRRS-",
        "outputId": "cdc838cd-8565-4cf5-ab8b-4734153ae11e"
      },
      "execution_count": 58,
      "outputs": [
        {
          "output_type": "stream",
          "name": "stdout",
          "text": [
            "\n",
            "# 2330.TW 股票分析報告\n",
            "\n",
            "## 摘要\n",
            "以下是基於公司財務數據的專業分析報告。\n",
            "\n",
            "## 詳細報告\n",
            "## 2330.TW 股票分析報告\n",
            "\n",
            "**日期:** 2024年10月27日\n",
            "\n",
            "**分析師:** AI 投資顧問\n",
            "\n",
            "**引言:**\n",
            "\n",
            "本報告針對台灣上市公司 2330.TW (請提供公司名稱) 進行全面分析，基於提供的財務和技術數據，評估其投資價值及潛在風險。由於提供的收入和淨利潤數據缺失 (顯示為 nan)，本報告將主要依據提供的每股盈餘 (EPS)、市盈率 (P/E Ratio)、股價、股息收益率以及技術指標進行分析，並指出數據缺失對分析的限制。\n",
            "\n",
            "\n",
            "**1. 公司財務健康狀況評論:**\n",
            "\n",
            "提供的數據顯示 2330.TW 的 EPS 為 40.5，市盈率為 24.59。這意味著投資者願意支付其每股盈餘的 24.59 倍來購買該公司的股票。相較於市場平均市盈率 (需要參考市場數據，本報告無法提供)，24.59 的市盈率需要進一步與同業比較才能判斷其高低。缺乏收入和淨利潤數據，難以評估公司的盈利能力和整體財務健康狀況。  股息收益率為 0.40%，相對較低，暗示股價增長可能是投資者主要期待的回報來源。  **數據缺失嚴重限制了對公司財務健康狀況的全面評估。**  我們需要完整的財務報表才能得出更準確的結論。\n",
            "\n",
            "\n",
            "**2. 技術指標分析:**\n",
            "\n",
            "* **移動平均線 (SMA):** 20 日 SMA (1036.3 美元) 低於 50 日 SMA (1025.74 美元)，呈現輕微的看跌訊號。  這表示短期平均價格低於長期平均價格，價格可能存在下跌趨勢。然而，差距很小，趨勢並不明顯。\n",
            "\n",
            "* **相對強弱指數 (RSI):** RSI 為 26.46，低於 30 的超賣區間。這通常被認為是潛在買入訊號，表示股票可能被低估，存在反彈的可能性。\n",
            "\n",
            "* **移動平均收斂發散指標 (MACD):** MACD 為 -7.63，低於信號線 (-1.10)，呈現看跌訊號。  這表明價格動能減弱，並且存在持續下跌的風險。\n",
            "\n",
            "**綜合技術指標分析：** 技術指標呈現相互矛盾的訊號。RSI 指示超賣，暗示潛在的反彈，而 SMA 和 MACD 則顯示看跌趨勢。  需要更多數據和更深入的分析才能確認價格走勢。\n",
            "\n",
            "\n",
            "**3. 未來增長潛力判斷:**\n",
            "\n",
            "由於缺乏關鍵財務數據 (收入和淨利潤)，難以準確評估 2330.TW 的未來增長潛力。  需要進一步研究公司的業務模式、行業趨勢以及競爭環境，才能更全面地評估其增長前景。  目前的技術指標並不能單獨作為未來增長潛力的可靠指標。\n",
            "\n",
            "\n",
            "**4. 投資建議:**\n",
            "\n",
            "基於目前提供的有限數據，**我們不建議短期內投資 2330.TW**。  技術指標顯示出混合訊號，而缺少關鍵財務數據阻礙了對公司基本面的評估。  RSI 的超賣訊號暗示潛在的反彈機會，但 MACD 和 SMA 的看跌訊號則提示風險。\n",
            "\n",
            "**長期投資的可能性需要進一步分析:**  在獲得完整的財務數據，並深入研究公司的業務、行業和競爭格局後，才能更準確地評估長期投資的價值。\n",
            "\n",
            "\n",
            "**5. 潛在風險評估及應對策略:**\n",
            "\n",
            "* **數據缺失:**  這是目前最大的風險，阻礙了對公司財務狀況和未來增長潛力的準確評估。  應當盡快獲得完整的財務數據。\n",
            "* **市場風險:**  整體市場環境的變化會影響股價。  需密切關注市場動態，並根據市場變化調整投資策略。\n",
            "* **公司特定風險:**  需要進一步研究公司面臨的業務風險，例如競爭加劇、政策變化等。\n",
            "\n",
            "**應對策略:**  在獲得完整的財務數據後，進行更深入的分析。密切關注市場動態和公司新聞，並根據新的信息調整投資策略。  考慮設定止損點以限制潛在損失。\n",
            "\n",
            "\n",
            "**免責聲明:**  本報告僅供參考，不構成任何投資建議。投資有風險，入市需謹慎。  本報告基於提供的有限數據，其結論可能存在偏差。  投資者應根據自身的風險承受能力和投資目標做出獨立的投資決策。\n",
            "    \n"
          ]
        }
      ]
    }
  ]
}